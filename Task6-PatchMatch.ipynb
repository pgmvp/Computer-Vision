{
  "nbformat": 4,
  "nbformat_minor": 0,
  "metadata": {
    "colab": {
      "name": "PatchMatch.ipynb",
      "version": "0.3.2",
      "provenance": [],
      "collapsed_sections": []
    },
    "kernelspec": {
      "name": "python3",
      "display_name": "Python 3"
    }
  },
  "cells": [
    {
      "cell_type": "code",
      "metadata": {
        "id": "GJ64vtBQjfAY",
        "colab_type": "code",
        "colab": {
          "base_uri": "https://localhost:8080/",
          "height": 52
        },
        "outputId": "31af9c65-ceb6-43e9-c8d3-3d3b8f8c02a7"
      },
      "source": [
        "import numpy as np\n",
        "import cv2\n",
        "from skimage import io\n",
        "from matplotlib import pyplot as plt\n",
        "from google.colab.patches import cv2_imshow\n",
        "\n",
        "def url_to_image(url):\n",
        "  print(\"downloading %s\" % (url))\n",
        "  return cv2.cvtColor(io.imread(url), cv2.COLOR_BGR2RGB)\n",
        "\n",
        "url = \"https://raw.githubusercontent.com/mdavydov/ComputerVisionCourse/master/frames/v001.jpg\"\n",
        "img1 = url_to_image(url)\n",
        "\n",
        "url = \"https://raw.githubusercontent.com/mdavydov/ComputerVisionCourse/master/frames/v100.jpg\"\n",
        "img2 = url_to_image(url)"
      ],
      "execution_count": 7,
      "outputs": [
        {
          "output_type": "stream",
          "text": [
            "downloading https://raw.githubusercontent.com/mdavydov/ComputerVisionCourse/master/frames/v001.jpg\n",
            "downloading https://raw.githubusercontent.com/mdavydov/ComputerVisionCourse/master/frames/v100.jpg\n"
          ],
          "name": "stdout"
        }
      ]
    },
    {
      "cell_type": "code",
      "metadata": {
        "id": "4wRPJkM5jjgR",
        "colab_type": "code",
        "colab": {}
      },
      "source": [
        "def init(A, B, patch_size):\n",
        "  half = patch_size // 2\n",
        "  B_h = B.shape[0]\n",
        "  B_w = B.shape[1]\n",
        "  A_h = A.shape[0]\n",
        "  A_w = A.shape[1]\n",
        "  \n",
        "  x_offset = np.random.randint(0, B_h, A_h)\n",
        "  y_offset = np.random.randint(0, B_w, A_w)\n",
        "  \n",
        "  F = np.zeros_like(A[:,:,0], dtype=object)\n",
        "  for i in range(A_h):\n",
        "    for j in range(A_w):\n",
        "      F[i, j] = (x_offset[i], y_offset[j])\n",
        "      \n",
        "  return F\n",
        "\n",
        "def dist(pix_a, pix_b, A, B, patch_size):\n",
        "  half = patch_size // 2\n",
        "  patch_A = A[pix_a[0]-half:pix_a[0]+half, pix_a[1]-half:pix_a[1]+half, :]\n",
        "  patch_B = B[pix_b[0]-half:pix_b[0]+half, pix_b[1]-half:pix_b[1]+half, :]\n",
        "  \n",
        "  print(patch_A)\n",
        "  print(patch_B)\n",
        "  \n",
        "  diff = patch_A - patch_B\n",
        "  \n",
        "  return np.sum(diff ** 2) / (patch_size ** 2)\n",
        "  \n",
        "\n",
        "def patch_match(A, B, patch_size, num_iter):\n",
        "  F = init(A, B, patch_size)\n",
        "  B_h = B.shape[0]\n",
        "  B_w = B.shape[1]\n",
        "  A_h = A.shape[0]\n",
        "  A_w = A.shape[1]\n",
        "  \n",
        "  for it in range(1, num_iter + 1):\n",
        "    if it % 2 == 0:\n",
        "      for i in range(A_h-1, -1, -1):\n",
        "        for j in range(A_w-1, -1, -1):\n",
        "          print(F.shape)\n",
        "          dist_right = dist((i, j + 1), F[i, j+1], A, B, patch_size)\n",
        "          dist_down = dist((i+1, j), F[i+1, j], A, B, patch_size)\n",
        "          dist_curr = dist((i, j), F[i, j], A, B, patch_size)\n",
        "          \n",
        "          argmin = np.argmin(np.array(dist_curr, dist_right, dist_down))\n",
        "          \n",
        "          if argmin == 1:\n",
        "            F[i, j] = (i, j - 1)\n",
        "          if argmin == 2:\n",
        "            F[i, j] = (i - 1, j)\n",
        "          \n",
        "    else:\n",
        "      for i in range(1, A_h):\n",
        "        for j in range(1, A_w):\n",
        "          print(A.shape)\n",
        "          print(B.shape)\n",
        "          #propagation\n",
        "          dist_left = dist((i, j - 1), F[i,j-1], A, B, patch_size)\n",
        "          dist_upper = dist((i - 1, j), F[i-1,j], A, B, patch_size)\n",
        "          dist_curr = dist((i, j), F[i,j], A, B, patch_size)\n",
        "          \n",
        "          argmin = np.argmin(np.array(dist_curr, dist_left, dist_upper))\n",
        "          \n",
        "          if argmin == 1:\n",
        "            F[i, j] = (i, j - 1)\n",
        "          if argmin == 2:\n",
        "            F[i, j] = (i - 1, j)\n",
        "            \n",
        "            \n",
        "  return F\n",
        "          \n",
        "\n",
        "F = patch_match(img1, img2, 3, 5)\n",
        "recon = np.zeros_like(img1)\n",
        "\n",
        "for i in range(img1.shape[0]):\n",
        "  for j in range(img1.shape[1]):\n",
        "    recon[i, j, :] = img2[F[i, j][0], F[i, j][1], :]\n",
        "    \n",
        "cv2_imshow(recon)"
      ],
      "execution_count": 0,
      "outputs": []
    },
    {
      "cell_type": "code",
      "metadata": {
        "id": "RS5NfOQTKbYI",
        "colab_type": "code",
        "colab": {}
      },
      "source": [
        ""
      ],
      "execution_count": 0,
      "outputs": []
    }
  ]
}